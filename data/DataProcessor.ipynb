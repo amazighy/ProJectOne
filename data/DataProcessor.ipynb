{
 "cells": [
  {
   "cell_type": "code",
   "execution_count": 21,
   "metadata": {},
   "outputs": [],
   "source": [
    "import numpy as np\n",
    "import pandas as pd\n",
    "import io\n",
    "import requests"
   ]
  },
  {
   "cell_type": "code",
   "execution_count": 22,
   "metadata": {},
   "outputs": [
    {
     "output_type": "execute_result",
     "data": {
      "text/plain": "         date     location  new_cases  new_deaths  total_cases  total_deaths\n0  2019-12-31  Afghanistan        0.0           0          0.0             0\n1  2020-01-01  Afghanistan        0.0           0          0.0             0\n2  2020-01-02  Afghanistan        0.0           0          0.0             0\n3  2020-01-03  Afghanistan        0.0           0          0.0             0\n4  2020-01-04  Afghanistan        0.0           0          0.0             0",
      "text/html": "<div>\n<style scoped>\n    .dataframe tbody tr th:only-of-type {\n        vertical-align: middle;\n    }\n\n    .dataframe tbody tr th {\n        vertical-align: top;\n    }\n\n    .dataframe thead th {\n        text-align: right;\n    }\n</style>\n<table border=\"1\" class=\"dataframe\">\n  <thead>\n    <tr style=\"text-align: right;\">\n      <th></th>\n      <th>date</th>\n      <th>location</th>\n      <th>new_cases</th>\n      <th>new_deaths</th>\n      <th>total_cases</th>\n      <th>total_deaths</th>\n    </tr>\n  </thead>\n  <tbody>\n    <tr>\n      <th>0</th>\n      <td>2019-12-31</td>\n      <td>Afghanistan</td>\n      <td>0.0</td>\n      <td>0</td>\n      <td>0.0</td>\n      <td>0</td>\n    </tr>\n    <tr>\n      <th>1</th>\n      <td>2020-01-01</td>\n      <td>Afghanistan</td>\n      <td>0.0</td>\n      <td>0</td>\n      <td>0.0</td>\n      <td>0</td>\n    </tr>\n    <tr>\n      <th>2</th>\n      <td>2020-01-02</td>\n      <td>Afghanistan</td>\n      <td>0.0</td>\n      <td>0</td>\n      <td>0.0</td>\n      <td>0</td>\n    </tr>\n    <tr>\n      <th>3</th>\n      <td>2020-01-03</td>\n      <td>Afghanistan</td>\n      <td>0.0</td>\n      <td>0</td>\n      <td>0.0</td>\n      <td>0</td>\n    </tr>\n    <tr>\n      <th>4</th>\n      <td>2020-01-04</td>\n      <td>Afghanistan</td>\n      <td>0.0</td>\n      <td>0</td>\n      <td>0.0</td>\n      <td>0</td>\n    </tr>\n  </tbody>\n</table>\n</div>"
     },
     "metadata": {},
     "execution_count": 22
    }
   ],
   "source": [
    "url=\"https://raw.githubusercontent.com/owid/covid-19-data/master/public/data/ecdc/full_data.csv\"\n",
    "s=requests.get(url).content\n",
    "df=pd.read_csv(io.StringIO(s.decode('utf-8')))\n",
    "df.head()"
   ]
  },
  {
   "cell_type": "code",
   "execution_count": 23,
   "metadata": {},
   "outputs": [
    {
     "output_type": "execute_result",
     "data": {
      "text/plain": "    MapID Code               location                  name_long continent  \\\n236   732  SAH              W. Sahara             Western Sahara    Africa   \n237   876  WLF  Wallis and Futuna Is.  Wallis and Futuna Islands   Oceania   \n238   887  YEM                  Yemen                      Yemen      Asia   \n239   894  ZMB                 Zambia                     Zambia    Africa   \n240   716  ZWE               Zimbabwe                   Zimbabwe    Africa   \n\n                       economy              income_grp    index        date  \\\n236  7. Least developed region           5. Low income      NaN         NaN   \n237       6. Developing region  4. Lower middle income      NaN         NaN   \n238  7. Least developed region  4. Lower middle income  13458.0  2020-04-27   \n239  7. Least developed region  4. Lower middle income  13498.0  2020-04-27   \n240    5. Emerging region: G20           5. Low income  13536.0  2020-04-27   \n\n     new_cases  new_deaths  total_cases  total_deaths  \n236        NaN         NaN          NaN           NaN  \n237        NaN         NaN          NaN           NaN  \n238        0.0         0.0          1.0           0.0  \n239        4.0         0.0         88.0           3.0  \n240        0.0         0.0         31.0           4.0  ",
      "text/html": "<div>\n<style scoped>\n    .dataframe tbody tr th:only-of-type {\n        vertical-align: middle;\n    }\n\n    .dataframe tbody tr th {\n        vertical-align: top;\n    }\n\n    .dataframe thead th {\n        text-align: right;\n    }\n</style>\n<table border=\"1\" class=\"dataframe\">\n  <thead>\n    <tr style=\"text-align: right;\">\n      <th></th>\n      <th>MapID</th>\n      <th>Code</th>\n      <th>location</th>\n      <th>name_long</th>\n      <th>continent</th>\n      <th>economy</th>\n      <th>income_grp</th>\n      <th>index</th>\n      <th>date</th>\n      <th>new_cases</th>\n      <th>new_deaths</th>\n      <th>total_cases</th>\n      <th>total_deaths</th>\n    </tr>\n  </thead>\n  <tbody>\n    <tr>\n      <th>236</th>\n      <td>732</td>\n      <td>SAH</td>\n      <td>W. Sahara</td>\n      <td>Western Sahara</td>\n      <td>Africa</td>\n      <td>7. Least developed region</td>\n      <td>5. Low income</td>\n      <td>NaN</td>\n      <td>NaN</td>\n      <td>NaN</td>\n      <td>NaN</td>\n      <td>NaN</td>\n      <td>NaN</td>\n    </tr>\n    <tr>\n      <th>237</th>\n      <td>876</td>\n      <td>WLF</td>\n      <td>Wallis and Futuna Is.</td>\n      <td>Wallis and Futuna Islands</td>\n      <td>Oceania</td>\n      <td>6. Developing region</td>\n      <td>4. Lower middle income</td>\n      <td>NaN</td>\n      <td>NaN</td>\n      <td>NaN</td>\n      <td>NaN</td>\n      <td>NaN</td>\n      <td>NaN</td>\n    </tr>\n    <tr>\n      <th>238</th>\n      <td>887</td>\n      <td>YEM</td>\n      <td>Yemen</td>\n      <td>Yemen</td>\n      <td>Asia</td>\n      <td>7. Least developed region</td>\n      <td>4. Lower middle income</td>\n      <td>13458.0</td>\n      <td>2020-04-27</td>\n      <td>0.0</td>\n      <td>0.0</td>\n      <td>1.0</td>\n      <td>0.0</td>\n    </tr>\n    <tr>\n      <th>239</th>\n      <td>894</td>\n      <td>ZMB</td>\n      <td>Zambia</td>\n      <td>Zambia</td>\n      <td>Africa</td>\n      <td>7. Least developed region</td>\n      <td>4. Lower middle income</td>\n      <td>13498.0</td>\n      <td>2020-04-27</td>\n      <td>4.0</td>\n      <td>0.0</td>\n      <td>88.0</td>\n      <td>3.0</td>\n    </tr>\n    <tr>\n      <th>240</th>\n      <td>716</td>\n      <td>ZWE</td>\n      <td>Zimbabwe</td>\n      <td>Zimbabwe</td>\n      <td>Africa</td>\n      <td>5. Emerging region: G20</td>\n      <td>5. Low income</td>\n      <td>13536.0</td>\n      <td>2020-04-27</td>\n      <td>0.0</td>\n      <td>0.0</td>\n      <td>31.0</td>\n      <td>4.0</td>\n    </tr>\n  </tbody>\n</table>\n</div>"
     },
     "metadata": {},
     "execution_count": 23
    }
   ],
   "source": [
    "def ProcessData(covid_path, Map_path):\n",
    "    Map=pd.read_csv(Map_path)\n",
    "    df.reset_index(level=0, inplace=True)\n",
    "    df1=df.groupby('location').max()\n",
    "    list1 = df1['index'].tolist()\n",
    "    covid=df.loc[df['index'].isin(list1)]\n",
    "    data=pd.merge(Map, covid,on=['location'], how='left')\n",
    "    data['MapID']=data['MapID'].map('{:0>3}'.format)\n",
    "   \n",
    "    return data\n",
    "data=ProcessData(df,'ProcessedTSV.csv')\n",
    "data.tail()"
   ]
  },
  {
   "cell_type": "code",
   "execution_count": 24,
   "metadata": {},
   "outputs": [
    {
     "output_type": "execute_result",
     "data": {
      "text/plain": "array(['2020-04-27', nan], dtype=object)"
     },
     "metadata": {},
     "execution_count": 24
    }
   ],
   "source": [
    "data.date.unique()"
   ]
  },
  {
   "cell_type": "code",
   "execution_count": 25,
   "metadata": {},
   "outputs": [],
   "source": [
    "bins = [ -1, 50, 100, 500, 1000, 5000, 10000, 20000,30000, np.inf]\n",
    "names = [    50, 100, 500 ,1000, 5000, 10000, 20000, 30000, 600000]\n",
    "\n",
    "data['Catog'] = pd.cut(data['total_deaths'], bins, labels=names)"
   ]
  },
  {
   "cell_type": "code",
   "execution_count": 26,
   "metadata": {},
   "outputs": [
    {
     "output_type": "execute_result",
     "data": {
      "text/plain": "[100, nan, 50, 500, 1000, 5000, 10000, 30000, 600000]"
     },
     "metadata": {},
     "execution_count": 26
    }
   ],
   "source": [
    "sorted(data.Catog.unique())"
   ]
  },
  {
   "cell_type": "code",
   "execution_count": 27,
   "metadata": {},
   "outputs": [],
   "source": [
    "data['Catog'] = data['Catog'].astype(str)"
   ]
  },
  {
   "cell_type": "code",
   "execution_count": 28,
   "metadata": {},
   "outputs": [],
   "source": [
    "data.to_csv('CovidData.tsv', sep = '\\t')"
   ]
  },
  {
   "cell_type": "code",
   "execution_count": null,
   "metadata": {},
   "outputs": [],
   "source": []
  },
  {
   "cell_type": "code",
   "execution_count": null,
   "metadata": {},
   "outputs": [],
   "source": []
  },
  {
   "cell_type": "code",
   "execution_count": null,
   "metadata": {},
   "outputs": [],
   "source": []
  }
 ],
 "metadata": {
  "kernelspec": {
   "display_name": "Python 3.7.3 32-bit ('venv': virtualenv)",
   "language": "python",
   "name": "python37332bitvenvvirtualenv062c128d7f9d4e9896c99910a0f32b8b"
  },
  "language_info": {
   "codemirror_mode": {
    "name": "ipython",
    "version": 3
   },
   "file_extension": ".py",
   "mimetype": "text/x-python",
   "name": "python",
   "nbconvert_exporter": "python",
   "pygments_lexer": "ipython3",
   "version": "3.7.3-final"
  }
 },
 "nbformat": 4,
 "nbformat_minor": 2
}